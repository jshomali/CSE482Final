{
 "cells": [
  {
   "cell_type": "code",
   "execution_count": 89,
   "metadata": {},
   "outputs": [
    {
     "data": {
      "text/html": [
       "<div>\n",
       "<style scoped>\n",
       "    .dataframe tbody tr th:only-of-type {\n",
       "        vertical-align: middle;\n",
       "    }\n",
       "\n",
       "    .dataframe tbody tr th {\n",
       "        vertical-align: top;\n",
       "    }\n",
       "\n",
       "    .dataframe thead th {\n",
       "        text-align: right;\n",
       "    }\n",
       "</style>\n",
       "<table border=\"1\" class=\"dataframe\">\n",
       "  <thead>\n",
       "    <tr style=\"text-align: right;\">\n",
       "      <th></th>\n",
       "      <th>Date</th>\n",
       "      <th>Location</th>\n",
       "      <th>Time of Day</th>\n",
       "      <th>Day of Week</th>\n",
       "      <th>Number of Crimes</th>\n",
       "    </tr>\n",
       "  </thead>\n",
       "  <tbody>\n",
       "    <tr>\n",
       "      <th>0</th>\n",
       "      <td>1/1/19</td>\n",
       "      <td>77th Street</td>\n",
       "      <td>0</td>\n",
       "      <td>Weekday</td>\n",
       "      <td>0</td>\n",
       "    </tr>\n",
       "    <tr>\n",
       "      <th>1</th>\n",
       "      <td>1/1/19</td>\n",
       "      <td>77th Street</td>\n",
       "      <td>600</td>\n",
       "      <td>Weekday</td>\n",
       "      <td>2</td>\n",
       "    </tr>\n",
       "    <tr>\n",
       "      <th>2</th>\n",
       "      <td>1/1/19</td>\n",
       "      <td>77th Street</td>\n",
       "      <td>1200</td>\n",
       "      <td>Weekday</td>\n",
       "      <td>2</td>\n",
       "    </tr>\n",
       "    <tr>\n",
       "      <th>3</th>\n",
       "      <td>1/1/19</td>\n",
       "      <td>77th Street</td>\n",
       "      <td>1800</td>\n",
       "      <td>Weekday</td>\n",
       "      <td>6</td>\n",
       "    </tr>\n",
       "    <tr>\n",
       "      <th>4</th>\n",
       "      <td>1/1/19</td>\n",
       "      <td>Devonshire</td>\n",
       "      <td>0</td>\n",
       "      <td>Weekday</td>\n",
       "      <td>1</td>\n",
       "    </tr>\n",
       "  </tbody>\n",
       "</table>\n",
       "</div>"
      ],
      "text/plain": [
       "     Date     Location  Time of Day Day of Week  Number of Crimes\n",
       "0  1/1/19  77th Street            0     Weekday                 0\n",
       "1  1/1/19  77th Street          600     Weekday                 2\n",
       "2  1/1/19  77th Street         1200     Weekday                 2\n",
       "3  1/1/19  77th Street         1800     Weekday                 6\n",
       "4  1/1/19   Devonshire            0     Weekday                 1"
      ]
     },
     "execution_count": 89,
     "metadata": {},
     "output_type": "execute_result"
    }
   ],
   "source": [
    "import pandas as pd\n",
    "%matplotlib inline\n",
    "\n",
    "# loading and printing out first 5 items of the data\n",
    "data = pd.read_csv( 'CrimePreprocessed.csv' )\n",
    "data.head()\n",
    "\n",
    "#range of Time of Day is:\n",
    "    # 0000-0600\n",
    "    # 0600-1200\n",
    "    # 1200-1800\n",
    "    # 1800-2359"
   ]
  },
  {
   "cell_type": "code",
   "execution_count": 90,
   "metadata": {},
   "outputs": [],
   "source": [
    "y = data['Day of Week']\n",
    "X = data.drop('Day of Week',axis=1)\n",
    "X = X.drop('Date',axis=1)"
   ]
  },
  {
   "cell_type": "code",
   "execution_count": 91,
   "metadata": {},
   "outputs": [],
   "source": [
    "from sklearn.model_selection import train_test_split\n",
    "\n",
    "X = X.drop('Location',axis=1)\n",
    "X_train, X_test, y_train, y_test = train_test_split(X, y, test_size= 0.3 , random_state=1)"
   ]
  },
  {
   "cell_type": "code",
   "execution_count": 95,
   "metadata": {},
   "outputs": [
    {
     "name": "stdout",
     "output_type": "stream",
     "text": [
      "Best hyperparameter, k = 25\n",
      "Test Accuracy = 0.7586206896551724\n"
     ]
    },
    {
     "data": {
      "image/png": "[encoded data removed]",
      "text/plain": [
       "<Figure size 432x288 with 1 Axes>"
      ]
     },
     "metadata": {},
     "output_type": "display_data"
    }
   ],
   "source": [
    "from sklearn.neighbors import KNeighborsClassifier\n",
    "import matplotlib.pyplot as plt\n",
    "%matplotlib inline\n",
    "\n",
    "import numpy as np\n",
    "from sklearn.model_selection import cross_val_score\n",
    "from sklearn import tree\n",
    "from sklearn.metrics import accuracy_score\n",
    "\n",
    "numNeighbors = [1,3,5,7,10,15,20,25,30]\n",
    "validationAcc = np.zeros(len(numNeighbors))\n",
    "testAcc = np.zeros(len(numNeighbors))\n",
    "index = 0\n",
    "\n",
    "np.random.seed(1)\n",
    "for nn in numNeighbors:\n",
    "    clf = KNeighborsClassifier( n_neighbors=nn )\n",
    "    scores = cross_val_score( clf, X_train, y_train, cv=10 )\n",
    "    validationAcc[index] = np.mean(scores)\n",
    "    clf.fit( X_train, y_train  )\n",
    "    Y_predTest = clf.predict( X_test )\n",
    "    testAcc[index] = accuracy_score( y_test, Y_predTest )\n",
    "    index += 1\n",
    "    \n",
    "plt.plot(numNeighbors, validationAcc, 'ro--', numNeighbors, testAcc, 'kv-')\n",
    "plt.xlabel('Number of neighbors')\n",
    "plt.ylabel('Accuracy')\n",
    "plt.title('k-nearest neighbors')\n",
    "plt.legend(['Validation','Testing'])\n",
    "plt.ylim([0.6,1.0])\n",
    "\n",
    "bestHyperparam = np.argmax(validationAcc)\n",
    "print('Best hyperparameter, k =', numNeighbors[bestHyperparam])\n",
    "print('Test Accuracy =', testAcc[bestHyperparam])"
   ]
  },
  {
   "cell_type": "code",
   "execution_count": 96,
   "metadata": {},
   "outputs": [
    {
     "name": "stdout",
     "output_type": "stream",
     "text": [
      "Test Accuracy = 0.7586206896551724\n"
     ]
    }
   ],
   "source": [
    "from sklearn import ensemble\n",
    "from sklearn.tree import DecisionTreeClassifier\n",
    "from sklearn.metrics import accuracy_score\n",
    "\n",
    "numEstimators = 500\n",
    "np.random.seed(1)\n",
    "clf = ensemble.RandomForestClassifier( n_estimators=numEstimators )\n",
    "clf.fit( X_train, y_train )\n",
    "y_pred = clf.predict( X_test )\n",
    "print('Test Accuracy =', accuracy_score( y_test, y_pred ))"
   ]
  },
  {
   "cell_type": "code",
   "execution_count": 6,
   "metadata": {},
   "outputs": [
    {
     "data": {
      "text/plain": [
       "(array([104., 595., 110.,   0.,  31.,  24.,   0.,   1.,   2.,   1.]),\n",
       " array([0. , 0.7, 1.4, 2.1, 2.8, 3.5, 4.2, 4.9, 5.6, 6.3, 7. ]),\n",
       " <a list of 10 Patch objects>)"
      ]
     },
     "execution_count": 6,
     "metadata": {},
     "output_type": "execute_result"
    },
    {
     "data": {
      "image/png": "[encoded data removed]",
      "text/plain": [
       "<Figure size 432x288 with 1 Axes>"
      ]
     },
     "metadata": {},
     "output_type": "display_data"
    }
   ],
   "source": [
    "# detecting outliers detect outliers in the dataset \n",
    "# based on the distance to the 100th nearest neighbors of each data instance\n",
    "\n",
    "from sklearn.neighbors import NearestNeighbors\n",
    "import numpy as np\n",
    "from scipy.spatial import distance\n",
    "import matplotlib.pyplot as plt\n",
    "\n",
    "%matplotlib inline\n",
    "\n",
    "knn = 100\n",
    "nbrs = NearestNeighbors(n_neighbors=knn+1).fit(X)\n",
    "distances, indices = nbrs.kneighbors(X)\n",
    "ax = plt.axes(yscale='log')\n",
    "ax.hist(distances[:,knn])"
   ]
  },
  {
   "cell_type": "code",
   "execution_count": 11,
   "metadata": {},
   "outputs": [
    {
     "data": {
      "text/html": [
       "<div>\n",
       "<style scoped>\n",
       "    .dataframe tbody tr th:only-of-type {\n",
       "        vertical-align: middle;\n",
       "    }\n",
       "\n",
       "    .dataframe tbody tr th {\n",
       "        vertical-align: top;\n",
       "    }\n",
       "\n",
       "    .dataframe thead th {\n",
       "        text-align: right;\n",
       "    }\n",
       "</style>\n",
       "<table border=\"1\" class=\"dataframe\">\n",
       "  <thead>\n",
       "    <tr style=\"text-align: right;\">\n",
       "      <th></th>\n",
       "      <th>index</th>\n",
       "      <th>score</th>\n",
       "    </tr>\n",
       "  </thead>\n",
       "  <tbody>\n",
       "    <tr>\n",
       "      <th>0</th>\n",
       "      <td>443.0</td>\n",
       "      <td>7.0</td>\n",
       "    </tr>\n",
       "    <tr>\n",
       "      <th>1</th>\n",
       "      <td>522.0</td>\n",
       "      <td>6.0</td>\n",
       "    </tr>\n",
       "    <tr>\n",
       "      <th>2</th>\n",
       "      <td>191.0</td>\n",
       "      <td>6.0</td>\n",
       "    </tr>\n",
       "    <tr>\n",
       "      <th>3</th>\n",
       "      <td>795.0</td>\n",
       "      <td>5.0</td>\n",
       "    </tr>\n",
       "    <tr>\n",
       "      <th>4</th>\n",
       "      <td>79.0</td>\n",
       "      <td>4.0</td>\n",
       "    </tr>\n",
       "  </tbody>\n",
       "</table>\n",
       "</div>"
      ],
      "text/plain": [
       "   index  score\n",
       "0  443.0    7.0\n",
       "1  522.0    6.0\n",
       "2  191.0    6.0\n",
       "3  795.0    5.0\n",
       "4   79.0    4.0"
      ]
     },
     "execution_count": 11,
     "metadata": {},
     "output_type": "execute_result"
    }
   ],
   "source": [
    "outlier = np.flipud(np.argsort(distances[:,knn]))\n",
    "sort_dist = np.flipud(np.sort(distances[:,knn]))\n",
    "\n",
    "p = pd.DataFrame(np.column_stack((outlier,sort_dist)),columns=['index','score'])\n",
    "p.head()"
   ]
  },
  {
   "cell_type": "code",
   "execution_count": 12,
   "metadata": {},
   "outputs": [
    {
     "name": "stdout",
     "output_type": "stream",
     "text": [
      "Area under ROC = 0.5292\n"
     ]
    },
    {
     "data": {
      "image/png": "[encoded data removed]",
      "text/plain": [
       "<Figure size 432x288 with 1 Axes>"
      ]
     },
     "metadata": {},
     "output_type": "display_data"
    }
   ],
   "source": [
    "from sklearn.metrics import roc_curve, auc\n",
    "%matplotlib inline\n",
    "\n",
    "true_labels = (y == 'Weekend')\n",
    "\n",
    "fpr, tpr, thresholds = roc_curve(true_labels, distances[:,knn])\n",
    "roc_auc = auc( fpr,tpr )\n",
    "plt.plot(fpr, tpr)\n",
    "print('Area under ROC = %.4f' % (roc_auc))"
   ]
  },
  {
   "cell_type": "code",
   "execution_count": 98,
   "metadata": {},
   "outputs": [
    {
     "data": {
      "text/plain": [
       "[('77th Street', 'Weekday', 1.0, None),\n",
       " ('77th Street', 'Weekday', 3.0, None),\n",
       " ('77th Street', 'Weekday', 3.0, None),\n",
       " ('77th Street', 'Weekday', 7.0, None),\n",
       " ('Devonshire', 'Weekday', 2.0, None)]"
      ]
     },
     "execution_count": 98,
     "metadata": {},
     "output_type": "execute_result"
    }
   ],
   "source": [
    "from surprise import Dataset\n",
    "from surprise import Reader\n",
    "\n",
    "import pandas as pd\n",
    "\n",
    "data = pd.read_csv( 'CrimePreprocessed.csv')\n",
    "\n",
    "reader = Reader(line_format='user item rating', sep=',', rating_scale=(0,10))\n",
    "data = Dataset.load_from_df(data[['Location', 'Day of Week', 'Number of Crimes']], reader=reader)\n",
    "data.raw_ratings[:5]"
   ]
  },
  {
   "cell_type": "code",
   "execution_count": 99,
   "metadata": {},
   "outputs": [
    {
     "data": {
      "text/plain": [
       "<surprise.prediction_algorithms.matrix_factorization.NMF at 0x1a225c8d68>"
      ]
     },
     "execution_count": 99,
     "metadata": {},
     "output_type": "execute_result"
    }
   ],
   "source": [
    "from surprise import NMF\n",
    "from surprise.model_selection import train_test_split\n",
    "\n",
    "trainset, testset = train_test_split(data, test_size=0.5, random_state=1 )\n",
    "\n",
    "algo = NMF( n_factors=20, n_epochs=200, random_state=1 )\n",
    "algo.fit( trainset )"
   ]
  },
  {
   "cell_type": "code",
   "execution_count": 100,
   "metadata": {},
   "outputs": [
    {
     "name": "stdout",
     "output_type": "stream",
     "text": [
      "RMSE: 1.5634\n",
      "MAE:  1.2055\n"
     ]
    },
    {
     "data": {
      "text/plain": [
       "(1.5633928119011977, 1.2055317517819069)"
      ]
     },
     "execution_count": 100,
     "metadata": {},
     "output_type": "execute_result"
    }
   ],
   "source": [
    "from surprise import accuracy\n",
    "\n",
    "pred = algo.test( testset )\n",
    "accuracy.rmse( pred ), accuracy.mae( pred )"
   ]
  },
  {
   "cell_type": "code",
   "execution_count": 102,
   "metadata": {},
   "outputs": [
    {
     "name": "stdout",
     "output_type": "stream",
     "text": [
      "user: Southwest  item: Weekend    r_ui = 1.00   est = 1.89   {'was_impossible': False}\n",
      "user: Southwest  item: Weekend    r_ui = 4.00   est = 1.89   {'was_impossible': False}\n",
      "user: West LA    item: Weekday    r_ui = 0.00   est = 0.87   {'was_impossible': False}\n",
      "user: West LA    item: Weekday    r_ui = 0.00   est = 0.87   {'was_impossible': False}\n",
      "user: Southwest  item: Weekend    r_ui = 1.00   est = 1.89   {'was_impossible': False}\n",
      "user: Pacific    item: Weekday    r_ui = 2.00   est = 1.35   {'was_impossible': False}\n",
      "user: West LA    item: Weekday    r_ui = 1.00   est = 0.87   {'was_impossible': False}\n",
      "user: West LA    item: Weekday    r_ui = 0.00   est = 0.87   {'was_impossible': False}\n",
      "user: Devonshire item: Weekend    r_ui = 2.00   est = 1.66   {'was_impossible': False}\n",
      "user: Hollywood  item: Weekday    r_ui = 0.00   est = 1.29   {'was_impossible': False}\n"
     ]
    }
   ],
   "source": [
    "for i in range(10):\n",
    "    print(pred[i])"
   ]
  },
  {
   "cell_type": "code",
   "execution_count": 103,
   "metadata": {},
   "outputs": [
    {
     "data": {
      "text/plain": [
       "[('77th Street', 0, 1.0, None),\n",
       " ('77th Street', 600, 3.0, None),\n",
       " ('77th Street', 1200, 3.0, None),\n",
       " ('77th Street', 1800, 7.0, None),\n",
       " ('Devonshire', 0, 2.0, None)]"
      ]
     },
     "execution_count": 103,
     "metadata": {},
     "output_type": "execute_result"
    }
   ],
   "source": [
    "from surprise import Dataset\n",
    "from surprise import Reader\n",
    "\n",
    "import pandas as pd\n",
    "\n",
    "data = pd.read_csv( 'CrimePreprocessed.csv')\n",
    "\n",
    "reader = Reader(line_format='user item rating', sep=',', rating_scale=(0,10))\n",
    "data2 = Dataset.load_from_df(data[['Location', 'Time of Day', 'Number of Crimes']], reader=reader)\n",
    "data2.raw_ratings[:5]"
   ]
  },
  {
   "cell_type": "code",
   "execution_count": 104,
   "metadata": {},
   "outputs": [
    {
     "data": {
      "text/plain": [
       "<surprise.prediction_algorithms.matrix_factorization.NMF at 0x1148d2cf8>"
      ]
     },
     "execution_count": 104,
     "metadata": {},
     "output_type": "execute_result"
    }
   ],
   "source": [
    "from surprise import NMF\n",
    "from surprise.model_selection import train_test_split\n",
    "\n",
    "trainset, testset = train_test_split(data2, test_size=0.5, random_state=1 )\n",
    "\n",
    "algo = NMF( n_factors=20, n_epochs=200, random_state=1 )\n",
    "algo.fit( trainset )"
   ]
  },
  {
   "cell_type": "code",
   "execution_count": 105,
   "metadata": {},
   "outputs": [
    {
     "name": "stdout",
     "output_type": "stream",
     "text": [
      "RMSE: 1.3273\n",
      "MAE:  1.0375\n"
     ]
    },
    {
     "data": {
      "text/plain": [
       "(1.3273344441671646, 1.0375237509031103)"
      ]
     },
     "execution_count": 105,
     "metadata": {},
     "output_type": "execute_result"
    }
   ],
   "source": [
    "from surprise import accuracy\n",
    "\n",
    "pred = algo.test( testset )\n",
    "accuracy.rmse( pred ), accuracy.mae( pred )"
   ]
  },
  {
   "cell_type": "code",
   "execution_count": 106,
   "metadata": {},
   "outputs": [
    {
     "name": "stdout",
     "output_type": "stream",
     "text": [
      "user: Southwest  item: 600        r_ui = 1.00   est = 1.40   {'was_impossible': False}\n",
      "user: Southwest  item: 1800       r_ui = 4.00   est = 3.21   {'was_impossible': False}\n",
      "user: West LA    item: 600        r_ui = 0.00   est = 0.60   {'was_impossible': False}\n",
      "user: West LA    item: 0          r_ui = 0.00   est = 0.37   {'was_impossible': False}\n",
      "user: Southwest  item: 0          r_ui = 1.00   est = 1.03   {'was_impossible': False}\n",
      "user: Pacific    item: 600        r_ui = 2.00   est = 0.84   {'was_impossible': False}\n",
      "user: West LA    item: 1200       r_ui = 1.00   est = 1.28   {'was_impossible': False}\n",
      "user: West LA    item: 600        r_ui = 0.00   est = 0.60   {'was_impossible': False}\n",
      "user: Devonshire item: 1800       r_ui = 2.00   est = 2.45   {'was_impossible': False}\n",
      "user: Hollywood  item: 600        r_ui = 0.00   est = 0.67   {'was_impossible': False}\n"
     ]
    }
   ],
   "source": [
    "#range of Time of Day is:\n",
    "    # 0000-0600\n",
    "    # 0600-1200\n",
    "    # 1200-1800\n",
    "    # 1800-2359\n",
    "\n",
    "for i in range(10):\n",
    "    print(pred[i])"
   ]
  },
  {
   "cell_type": "code",
   "execution_count": null,
   "metadata": {},
   "outputs": [],
   "source": []
  }
 ],
 "metadata": {
  "kernelspec": {
   "display_name": "Python 3",
   "language": "python",
   "name": "python3"
  },
  "language_info": {
   "codemirror_mode": {
    "name": "ipython",
    "version": 3
   },
   "file_extension": ".py",
   "mimetype": "text/x-python",
   "name": "python",
   "nbconvert_exporter": "python",
   "pygments_lexer": "ipython3",
   "version": "3.6.5"
  }
 },
 "nbformat": 4,
 "nbformat_minor": 2
}
